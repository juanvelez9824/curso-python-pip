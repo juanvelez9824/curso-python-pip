{
  "nbformat": 4,
  "nbformat_minor": 0,
  "metadata": {
    "colab": {
      "provenance": [],
      "include_colab_link": true
    },
    "kernelspec": {
      "name": "python3",
      "display_name": "Python 3"
    }
  },
  "cells": [
    {
      "cell_type": "markdown",
      "metadata": {
        "id": "view-in-github",
        "colab_type": "text"
      },
      "source": [
        "<a href=\"https://colab.research.google.com/github/juanvelez9824/curso-python-pip/blob/master/ann_homework_solution.ipynb\" target=\"_parent\"><img src=\"https://colab.research.google.com/assets/colab-badge.svg\" alt=\"Open In Colab\"/></a>"
      ]
    },
    {
      "cell_type": "markdown",
      "metadata": {
        "id": "qA--9cAW2UyP"
      },
      "source": [
        "# Redes Neuronales Artificales\n"
      ]
    },
    {
      "cell_type": "markdown",
      "metadata": {
        "id": "9BeMXDOJ2ZJe"
      },
      "source": [
        "### Instalar Theano\n",
        "pip install --upgrade --no-deps git+git://github.com/Theano/Theano.git\n",
        "\n",
        "### Instalar Tensorflow y Keras\n",
        "conda install -c conda-forge keras"
      ]
    },
    {
      "cell_type": "markdown",
      "metadata": {
        "id": "lxUxkKp23ELX"
      },
      "source": [
        "## Parte 1 - Pre procesado de datos"
      ]
    },
    {
      "cell_type": "markdown",
      "metadata": {
        "id": "xtYdPVXz2j92"
      },
      "source": [
        "### Cómo importar las librerías\n"
      ]
    },
    {
      "cell_type": "code",
      "metadata": {
        "id": "iMqBjL4U2Yhk"
      },
      "source": [
        "import numpy as np\n",
        "import matplotlib.pyplot as plt\n",
        "import pandas as pd"
      ],
      "execution_count": null,
      "outputs": []
    },
    {
      "cell_type": "markdown",
      "metadata": {
        "id": "fyQNJ1Fe2sLx"
      },
      "source": [
        "\n",
        "### Importar el data set\n"
      ]
    },
    {
      "cell_type": "code",
      "metadata": {
        "id": "Ox7RrlOo_Ie-",
        "colab": {
          "base_uri": "https://localhost:8080/",
          "height": 124
        },
        "outputId": "f0314ea6-f0b5-4199-bd52-c0c36b0a4359"
      },
      "source": [
        "from google.colab import drive\n",
        "drive.mount('/content/drive')"
      ],
      "execution_count": null,
      "outputs": [
        {
          "output_type": "stream",
          "text": [
            "Go to this URL in a browser: https://accounts.google.com/o/oauth2/auth?client_id=947318989803-6bn6qk8qdgf4n4g3pfee6491hc0brc4i.apps.googleusercontent.com&redirect_uri=urn%3aietf%3awg%3aoauth%3a2.0%3aoob&response_type=code&scope=email%20https%3a%2f%2fwww.googleapis.com%2fauth%2fdocs.test%20https%3a%2f%2fwww.googleapis.com%2fauth%2fdrive%20https%3a%2f%2fwww.googleapis.com%2fauth%2fdrive.photos.readonly%20https%3a%2f%2fwww.googleapis.com%2fauth%2fpeopleapi.readonly\n",
            "\n",
            "Enter your authorization code:\n",
            "··········\n",
            "Mounted at /content/drive\n"
          ],
          "name": "stdout"
        }
      ]
    },
    {
      "cell_type": "code",
      "metadata": {
        "id": "7BSrkMyH-9uU"
      },
      "source": [
        "dataset = pd.read_csv('/content/drive/My Drive/Curso de Deep Learning de la A a la Z/datasets/Part 1 - Artificial Neural Networks (ANN)/Churn_Modelling.csv')\n",
        "\n",
        "X = dataset.iloc[:, 3:13].values\n",
        "y = dataset.iloc[:, 13].values"
      ],
      "execution_count": null,
      "outputs": []
    },
    {
      "cell_type": "code",
      "metadata": {
        "id": "mWoaXz5u_peB",
        "colab": {
          "base_uri": "https://localhost:8080/",
          "height": 52
        },
        "outputId": "886674a1-de96-4915-ada4-9c68b7af7e48"
      },
      "source": [
        "dataset.iloc[0,:].values"
      ],
      "execution_count": null,
      "outputs": [
        {
          "output_type": "execute_result",
          "data": {
            "text/plain": [
              "array([1, 15634602, 'Hargrave', 619, 'France', 'Female', 42, 2, 0.0, 1, 1,\n",
              "       1, 101348.88, 1], dtype=object)"
            ]
          },
          "metadata": {
            "tags": []
          },
          "execution_count": 13
        }
      ]
    },
    {
      "cell_type": "code",
      "metadata": {
        "id": "CQANfx3ABbjH",
        "colab": {
          "base_uri": "https://localhost:8080/",
          "height": 35
        },
        "outputId": "661fbd49-29a1-4717-d920-e11d9d88eb62"
      },
      "source": [
        "X[0,:]"
      ],
      "execution_count": null,
      "outputs": [
        {
          "output_type": "execute_result",
          "data": {
            "text/plain": [
              "array([0.0, 0.0, 619, 0, 42, 2, 0.0, 1, 1, 1, 101348.88], dtype=object)"
            ]
          },
          "metadata": {
            "tags": []
          },
          "execution_count": 14
        }
      ]
    },
    {
      "cell_type": "markdown",
      "metadata": {
        "id": "YMjk10V02yjw"
      },
      "source": [
        "\n",
        "### Codificar datos categóricos\n"
      ]
    },
    {
      "cell_type": "code",
      "metadata": {
        "id": "0PyWcX-X21ZY"
      },
      "source": [
        "from sklearn.preprocessing import LabelEncoder\n",
        "labelencoder_X_1 = LabelEncoder()\n",
        "X[:, 1] = labelencoder_X_1.fit_transform(X[:, 1])\n",
        "labelencoder_X_2 = LabelEncoder()\n",
        "X[:, 2] = labelencoder_X_2.fit_transform(X[:, 2])\n"
      ],
      "execution_count": null,
      "outputs": []
    },
    {
      "cell_type": "code",
      "metadata": {
        "id": "gEhEHvRN8WSw"
      },
      "source": [
        "from sklearn.preprocessing import OneHotEncoder\n",
        "from sklearn.compose import ColumnTransformer\n",
        "\n",
        "transformer = ColumnTransformer(\n",
        "    transformers=[\n",
        "        (\"Churn_Modelling\",        # Un nombre de la transformación\n",
        "         OneHotEncoder(categories='auto'), # La clase a la que transformar\n",
        "         [1]            # Las columnas a transformar.\n",
        "         )\n",
        "    ], remainder='passthrough'\n",
        ")\n",
        "\n",
        "X = transformer.fit_transform(X)\n",
        "X = X[:, 1:]"
      ],
      "execution_count": null,
      "outputs": []
    },
    {
      "cell_type": "markdown",
      "metadata": {
        "id": "3xHLqRxA23Fl"
      },
      "source": [
        "\n",
        "### Dividir el data set en conjunto de entrenamiento y conjunto de testing\n"
      ]
    },
    {
      "cell_type": "code",
      "metadata": {
        "id": "GjoCCGxl26dA"
      },
      "source": [
        "from sklearn.model_selection import train_test_split\n",
        "X_train, X_test, y_train, y_test = train_test_split(X, y, test_size = 0.2, random_state = 0)"
      ],
      "execution_count": null,
      "outputs": []
    },
    {
      "cell_type": "markdown",
      "metadata": {
        "id": "1wxFx6iB25zr"
      },
      "source": [
        "### Escalado de variables\n"
      ]
    },
    {
      "cell_type": "code",
      "metadata": {
        "id": "8-oxDQHq2-MA"
      },
      "source": [
        "from sklearn.preprocessing import StandardScaler\n",
        "sc_X = StandardScaler()\n",
        "X_train = sc_X.fit_transform(X_train)\n",
        "X_test = sc_X.transform(X_test)"
      ],
      "execution_count": null,
      "outputs": []
    },
    {
      "cell_type": "markdown",
      "metadata": {
        "id": "w4l-48uB3PMl"
      },
      "source": [
        "## Parte 2 - Construir la RNA\n",
        "\n",
        "\n"
      ]
    },
    {
      "cell_type": "code",
      "metadata": {
        "id": "zlWo_SIV3UAC",
        "outputId": "33b40fc0-13ab-4b91-ae26-b8ee9bca0ca4",
        "colab": {
          "base_uri": "https://localhost:8080/",
          "height": 81
        }
      },
      "source": [
        "# Importar Keras y librerías adicionales\n",
        "import keras\n",
        "from keras.models import Sequential\n",
        "from keras.layers import Dense"
      ],
      "execution_count": null,
      "outputs": [
        {
          "output_type": "stream",
          "text": [
            "Using TensorFlow backend.\n"
          ],
          "name": "stderr"
        },
        {
          "output_type": "display_data",
          "data": {
            "text/html": [
              "<p style=\"color: red;\">\n",
              "The default version of TensorFlow in Colab will soon switch to TensorFlow 2.x.<br>\n",
              "We recommend you <a href=\"https://www.tensorflow.org/guide/migrate\" target=\"_blank\">upgrade</a> now \n",
              "or ensure your notebook will continue to use TensorFlow 1.x via the <code>%tensorflow_version 1.x</code> magic:\n",
              "<a href=\"https://colab.research.google.com/notebooks/tensorflow_version.ipynb\" target=\"_blank\">more info</a>.</p>\n"
            ],
            "text/plain": [
              "<IPython.core.display.HTML object>"
            ]
          },
          "metadata": {
            "tags": []
          }
        }
      ]
    },
    {
      "cell_type": "code",
      "metadata": {
        "id": "RKFdMhmm3W5W",
        "colab": {
          "base_uri": "https://localhost:8080/",
          "height": 4010
        },
        "outputId": "f6510042-c0d6-4cda-f478-30a3ecda0e21"
      },
      "source": [
        "# Inicializar la RNA\n",
        "classifier = Sequential()\n",
        "\n",
        "# Añadir las capas de entrada y primera capa oculta\n",
        "classifier.add(Dense(units = 6, kernel_initializer = \"uniform\",\n",
        "                     activation = \"relu\", input_dim = 11))\n",
        "\n",
        "# Añadir la segunda capa oculta\n",
        "classifier.add(Dense(units = 6, kernel_initializer = \"uniform\",  activation = \"relu\"))\n",
        "\n",
        "# Añadir la capa de salida\n",
        "classifier.add(Dense(units = 1, kernel_initializer = \"uniform\",  activation = \"sigmoid\"))\n",
        "\n",
        "# Compilar la RNA\n",
        "classifier.compile(optimizer = \"adam\", loss = \"binary_crossentropy\", metrics = [\"accuracy\"])\n",
        "\n",
        "# Ajustamos la RNA al Conjunto de Entrenamiento\n",
        "classifier.fit(X_train, y_train,  batch_size = 10, epochs = 100)"
      ],
      "execution_count": null,
      "outputs": [
        {
          "output_type": "stream",
          "text": [
            "WARNING:tensorflow:From /usr/local/lib/python3.6/dist-packages/keras/backend/tensorflow_backend.py:66: The name tf.get_default_graph is deprecated. Please use tf.compat.v1.get_default_graph instead.\n",
            "\n",
            "WARNING:tensorflow:From /usr/local/lib/python3.6/dist-packages/keras/backend/tensorflow_backend.py:541: The name tf.placeholder is deprecated. Please use tf.compat.v1.placeholder instead.\n",
            "\n",
            "WARNING:tensorflow:From /usr/local/lib/python3.6/dist-packages/keras/backend/tensorflow_backend.py:4432: The name tf.random_uniform is deprecated. Please use tf.random.uniform instead.\n",
            "\n",
            "WARNING:tensorflow:From /usr/local/lib/python3.6/dist-packages/keras/optimizers.py:793: The name tf.train.Optimizer is deprecated. Please use tf.compat.v1.train.Optimizer instead.\n",
            "\n",
            "WARNING:tensorflow:From /usr/local/lib/python3.6/dist-packages/keras/backend/tensorflow_backend.py:3657: The name tf.log is deprecated. Please use tf.math.log instead.\n",
            "\n",
            "WARNING:tensorflow:From /usr/local/lib/python3.6/dist-packages/tensorflow_core/python/ops/nn_impl.py:183: where (from tensorflow.python.ops.array_ops) is deprecated and will be removed in a future version.\n",
            "Instructions for updating:\n",
            "Use tf.where in 2.0, which has the same broadcast rule as np.where\n",
            "WARNING:tensorflow:From /usr/local/lib/python3.6/dist-packages/keras/backend/tensorflow_backend.py:1033: The name tf.assign_add is deprecated. Please use tf.compat.v1.assign_add instead.\n",
            "\n",
            "WARNING:tensorflow:From /usr/local/lib/python3.6/dist-packages/keras/backend/tensorflow_backend.py:1020: The name tf.assign is deprecated. Please use tf.compat.v1.assign instead.\n",
            "\n",
            "WARNING:tensorflow:From /usr/local/lib/python3.6/dist-packages/keras/backend/tensorflow_backend.py:3005: The name tf.Session is deprecated. Please use tf.compat.v1.Session instead.\n",
            "\n",
            "Epoch 1/100\n",
            "WARNING:tensorflow:From /usr/local/lib/python3.6/dist-packages/keras/backend/tensorflow_backend.py:190: The name tf.get_default_session is deprecated. Please use tf.compat.v1.get_default_session instead.\n",
            "\n",
            "WARNING:tensorflow:From /usr/local/lib/python3.6/dist-packages/keras/backend/tensorflow_backend.py:197: The name tf.ConfigProto is deprecated. Please use tf.compat.v1.ConfigProto instead.\n",
            "\n",
            "WARNING:tensorflow:From /usr/local/lib/python3.6/dist-packages/keras/backend/tensorflow_backend.py:207: The name tf.global_variables is deprecated. Please use tf.compat.v1.global_variables instead.\n",
            "\n",
            "WARNING:tensorflow:From /usr/local/lib/python3.6/dist-packages/keras/backend/tensorflow_backend.py:216: The name tf.is_variable_initialized is deprecated. Please use tf.compat.v1.is_variable_initialized instead.\n",
            "\n",
            "WARNING:tensorflow:From /usr/local/lib/python3.6/dist-packages/keras/backend/tensorflow_backend.py:223: The name tf.variables_initializer is deprecated. Please use tf.compat.v1.variables_initializer instead.\n",
            "\n",
            "8000/8000 [==============================] - 2s 231us/step - loss: 0.5070 - acc: 0.7967\n",
            "Epoch 2/100\n",
            "8000/8000 [==============================] - 1s 124us/step - loss: 0.4087 - acc: 0.8254\n",
            "Epoch 3/100\n",
            "8000/8000 [==============================] - 1s 126us/step - loss: 0.3945 - acc: 0.8294\n",
            "Epoch 4/100\n",
            "8000/8000 [==============================] - 1s 122us/step - loss: 0.3857 - acc: 0.8317\n",
            "Epoch 5/100\n",
            "8000/8000 [==============================] - 1s 125us/step - loss: 0.3794 - acc: 0.8351\n",
            "Epoch 6/100\n",
            "8000/8000 [==============================] - 1s 123us/step - loss: 0.3749 - acc: 0.8449\n",
            "Epoch 7/100\n",
            "8000/8000 [==============================] - 1s 124us/step - loss: 0.3705 - acc: 0.8480\n",
            "Epoch 8/100\n",
            "8000/8000 [==============================] - 1s 129us/step - loss: 0.3671 - acc: 0.8474\n",
            "Epoch 9/100\n",
            "8000/8000 [==============================] - 1s 123us/step - loss: 0.3644 - acc: 0.8496\n",
            "Epoch 10/100\n",
            "8000/8000 [==============================] - 1s 124us/step - loss: 0.3618 - acc: 0.8510\n",
            "Epoch 11/100\n",
            "8000/8000 [==============================] - 1s 125us/step - loss: 0.3595 - acc: 0.8506\n",
            "Epoch 12/100\n",
            "8000/8000 [==============================] - 1s 126us/step - loss: 0.3582 - acc: 0.8532\n",
            "Epoch 13/100\n",
            "8000/8000 [==============================] - 1s 125us/step - loss: 0.3566 - acc: 0.8551\n",
            "Epoch 14/100\n",
            "8000/8000 [==============================] - 1s 129us/step - loss: 0.3537 - acc: 0.8561\n",
            "Epoch 15/100\n",
            "8000/8000 [==============================] - 1s 126us/step - loss: 0.3525 - acc: 0.8552\n",
            "Epoch 16/100\n",
            "8000/8000 [==============================] - 1s 126us/step - loss: 0.3523 - acc: 0.8556\n",
            "Epoch 17/100\n",
            "8000/8000 [==============================] - 1s 128us/step - loss: 0.3502 - acc: 0.8589\n",
            "Epoch 18/100\n",
            "8000/8000 [==============================] - 1s 125us/step - loss: 0.3491 - acc: 0.8565\n",
            "Epoch 19/100\n",
            "8000/8000 [==============================] - 1s 127us/step - loss: 0.3488 - acc: 0.8559\n",
            "Epoch 20/100\n",
            "8000/8000 [==============================] - 1s 129us/step - loss: 0.3473 - acc: 0.8582\n",
            "Epoch 21/100\n",
            "8000/8000 [==============================] - 1s 127us/step - loss: 0.3474 - acc: 0.8580\n",
            "Epoch 22/100\n",
            "8000/8000 [==============================] - 1s 125us/step - loss: 0.3471 - acc: 0.8574\n",
            "Epoch 23/100\n",
            "8000/8000 [==============================] - 1s 125us/step - loss: 0.3449 - acc: 0.8586\n",
            "Epoch 24/100\n",
            "8000/8000 [==============================] - 1s 125us/step - loss: 0.3447 - acc: 0.8584\n",
            "Epoch 25/100\n",
            "8000/8000 [==============================] - 1s 123us/step - loss: 0.3440 - acc: 0.8566\n",
            "Epoch 26/100\n",
            "8000/8000 [==============================] - 1s 124us/step - loss: 0.3436 - acc: 0.8560\n",
            "Epoch 27/100\n",
            "8000/8000 [==============================] - 1s 123us/step - loss: 0.3433 - acc: 0.8606\n",
            "Epoch 28/100\n",
            "8000/8000 [==============================] - 1s 123us/step - loss: 0.3429 - acc: 0.8582\n",
            "Epoch 29/100\n",
            "8000/8000 [==============================] - 1s 127us/step - loss: 0.3428 - acc: 0.8619\n",
            "Epoch 30/100\n",
            "8000/8000 [==============================] - 1s 124us/step - loss: 0.3428 - acc: 0.8585\n",
            "Epoch 31/100\n",
            "8000/8000 [==============================] - 1s 125us/step - loss: 0.3420 - acc: 0.8604\n",
            "Epoch 32/100\n",
            "8000/8000 [==============================] - 1s 123us/step - loss: 0.3425 - acc: 0.8604\n",
            "Epoch 33/100\n",
            "8000/8000 [==============================] - 1s 126us/step - loss: 0.3420 - acc: 0.8597\n",
            "Epoch 34/100\n",
            "8000/8000 [==============================] - 1s 125us/step - loss: 0.3417 - acc: 0.8600\n",
            "Epoch 35/100\n",
            "8000/8000 [==============================] - 1s 125us/step - loss: 0.3419 - acc: 0.8616\n",
            "Epoch 36/100\n",
            "8000/8000 [==============================] - 1s 125us/step - loss: 0.3416 - acc: 0.8581\n",
            "Epoch 37/100\n",
            "8000/8000 [==============================] - 1s 125us/step - loss: 0.3410 - acc: 0.8619\n",
            "Epoch 38/100\n",
            "8000/8000 [==============================] - 1s 124us/step - loss: 0.3411 - acc: 0.8599\n",
            "Epoch 39/100\n",
            "8000/8000 [==============================] - 1s 126us/step - loss: 0.3404 - acc: 0.8597\n",
            "Epoch 40/100\n",
            "8000/8000 [==============================] - 1s 124us/step - loss: 0.3405 - acc: 0.8574\n",
            "Epoch 41/100\n",
            "8000/8000 [==============================] - 1s 125us/step - loss: 0.3405 - acc: 0.8601\n",
            "Epoch 42/100\n",
            "8000/8000 [==============================] - 1s 123us/step - loss: 0.3399 - acc: 0.8602\n",
            "Epoch 43/100\n",
            "8000/8000 [==============================] - 1s 124us/step - loss: 0.3394 - acc: 0.8609\n",
            "Epoch 44/100\n",
            "8000/8000 [==============================] - 1s 125us/step - loss: 0.3394 - acc: 0.8600\n",
            "Epoch 45/100\n",
            "8000/8000 [==============================] - 1s 127us/step - loss: 0.3396 - acc: 0.8587\n",
            "Epoch 46/100\n",
            "8000/8000 [==============================] - 1s 126us/step - loss: 0.3402 - acc: 0.8602\n",
            "Epoch 47/100\n",
            "8000/8000 [==============================] - 1s 127us/step - loss: 0.3385 - acc: 0.8605\n",
            "Epoch 48/100\n",
            "8000/8000 [==============================] - 1s 125us/step - loss: 0.3384 - acc: 0.8606\n",
            "Epoch 49/100\n",
            "8000/8000 [==============================] - 1s 126us/step - loss: 0.3405 - acc: 0.8607\n",
            "Epoch 50/100\n",
            "8000/8000 [==============================] - 1s 133us/step - loss: 0.3396 - acc: 0.8606\n",
            "Epoch 51/100\n",
            "8000/8000 [==============================] - 1s 129us/step - loss: 0.3383 - acc: 0.8610\n",
            "Epoch 52/100\n",
            "8000/8000 [==============================] - 1s 126us/step - loss: 0.3386 - acc: 0.8607\n",
            "Epoch 53/100\n",
            "8000/8000 [==============================] - 1s 128us/step - loss: 0.3389 - acc: 0.8605\n",
            "Epoch 54/100\n",
            "8000/8000 [==============================] - 1s 129us/step - loss: 0.3383 - acc: 0.8589\n",
            "Epoch 55/100\n",
            "8000/8000 [==============================] - 1s 131us/step - loss: 0.3386 - acc: 0.8625\n",
            "Epoch 56/100\n",
            "8000/8000 [==============================] - 1s 133us/step - loss: 0.3394 - acc: 0.8607\n",
            "Epoch 57/100\n",
            "8000/8000 [==============================] - 1s 130us/step - loss: 0.3386 - acc: 0.8584\n",
            "Epoch 58/100\n",
            "8000/8000 [==============================] - 1s 126us/step - loss: 0.3383 - acc: 0.8622\n",
            "Epoch 59/100\n",
            "8000/8000 [==============================] - 1s 126us/step - loss: 0.3382 - acc: 0.8606\n",
            "Epoch 60/100\n",
            "8000/8000 [==============================] - 1s 128us/step - loss: 0.3378 - acc: 0.8604\n",
            "Epoch 61/100\n",
            "8000/8000 [==============================] - 1s 126us/step - loss: 0.3382 - acc: 0.8625\n",
            "Epoch 62/100\n",
            "8000/8000 [==============================] - 1s 125us/step - loss: 0.3376 - acc: 0.8601\n",
            "Epoch 63/100\n",
            "8000/8000 [==============================] - 1s 127us/step - loss: 0.3381 - acc: 0.8601\n",
            "Epoch 64/100\n",
            "8000/8000 [==============================] - 1s 127us/step - loss: 0.3385 - acc: 0.8620\n",
            "Epoch 65/100\n",
            "8000/8000 [==============================] - 1s 127us/step - loss: 0.3383 - acc: 0.8607\n",
            "Epoch 66/100\n",
            "8000/8000 [==============================] - 1s 125us/step - loss: 0.3377 - acc: 0.8627\n",
            "Epoch 67/100\n",
            "8000/8000 [==============================] - 1s 129us/step - loss: 0.3385 - acc: 0.8617\n",
            "Epoch 68/100\n",
            "8000/8000 [==============================] - 1s 126us/step - loss: 0.3372 - acc: 0.8610\n",
            "Epoch 69/100\n",
            "8000/8000 [==============================] - 1s 128us/step - loss: 0.3382 - acc: 0.8605\n",
            "Epoch 70/100\n",
            "8000/8000 [==============================] - 1s 130us/step - loss: 0.3380 - acc: 0.8605\n",
            "Epoch 71/100\n",
            "8000/8000 [==============================] - 1s 130us/step - loss: 0.3376 - acc: 0.8627\n",
            "Epoch 72/100\n",
            "8000/8000 [==============================] - 1s 125us/step - loss: 0.3368 - acc: 0.8595\n",
            "Epoch 73/100\n",
            "8000/8000 [==============================] - 1s 125us/step - loss: 0.3366 - acc: 0.8640\n",
            "Epoch 74/100\n",
            "8000/8000 [==============================] - 1s 126us/step - loss: 0.3368 - acc: 0.8621\n",
            "Epoch 75/100\n",
            "8000/8000 [==============================] - 1s 127us/step - loss: 0.3371 - acc: 0.8629\n",
            "Epoch 76/100\n",
            "8000/8000 [==============================] - 1s 128us/step - loss: 0.3374 - acc: 0.8615\n",
            "Epoch 77/100\n",
            "8000/8000 [==============================] - 1s 125us/step - loss: 0.3378 - acc: 0.8616\n",
            "Epoch 78/100\n",
            "8000/8000 [==============================] - 1s 125us/step - loss: 0.3371 - acc: 0.8597\n",
            "Epoch 79/100\n",
            "8000/8000 [==============================] - 1s 126us/step - loss: 0.3373 - acc: 0.8606\n",
            "Epoch 80/100\n",
            "8000/8000 [==============================] - 1s 131us/step - loss: 0.3371 - acc: 0.8621\n",
            "Epoch 81/100\n",
            "8000/8000 [==============================] - 1s 124us/step - loss: 0.3366 - acc: 0.8597\n",
            "Epoch 82/100\n",
            "8000/8000 [==============================] - 1s 126us/step - loss: 0.3362 - acc: 0.8606\n",
            "Epoch 83/100\n",
            "8000/8000 [==============================] - 1s 128us/step - loss: 0.3362 - acc: 0.8621\n",
            "Epoch 84/100\n",
            "8000/8000 [==============================] - 1s 125us/step - loss: 0.3366 - acc: 0.8592\n",
            "Epoch 85/100\n",
            "8000/8000 [==============================] - 1s 124us/step - loss: 0.3372 - acc: 0.8607\n",
            "Epoch 86/100\n",
            "8000/8000 [==============================] - 1s 125us/step - loss: 0.3362 - acc: 0.8615\n",
            "Epoch 87/100\n",
            "8000/8000 [==============================] - 1s 126us/step - loss: 0.3367 - acc: 0.8621\n",
            "Epoch 88/100\n",
            "8000/8000 [==============================] - 1s 128us/step - loss: 0.3367 - acc: 0.8621\n",
            "Epoch 89/100\n",
            "8000/8000 [==============================] - 1s 127us/step - loss: 0.3365 - acc: 0.8612\n",
            "Epoch 90/100\n",
            "8000/8000 [==============================] - 1s 127us/step - loss: 0.3366 - acc: 0.8625\n",
            "Epoch 91/100\n",
            "8000/8000 [==============================] - 1s 127us/step - loss: 0.3364 - acc: 0.8614\n",
            "Epoch 92/100\n",
            "8000/8000 [==============================] - 1s 126us/step - loss: 0.3371 - acc: 0.8614\n",
            "Epoch 93/100\n",
            "8000/8000 [==============================] - 1s 126us/step - loss: 0.3368 - acc: 0.8630\n",
            "Epoch 94/100\n",
            "8000/8000 [==============================] - 1s 129us/step - loss: 0.3367 - acc: 0.8610\n",
            "Epoch 95/100\n",
            "8000/8000 [==============================] - 1s 127us/step - loss: 0.3373 - acc: 0.8630\n",
            "Epoch 96/100\n",
            "8000/8000 [==============================] - 1s 126us/step - loss: 0.3369 - acc: 0.8605\n",
            "Epoch 97/100\n",
            "8000/8000 [==============================] - 1s 126us/step - loss: 0.3372 - acc: 0.8607\n",
            "Epoch 98/100\n",
            "8000/8000 [==============================] - 1s 127us/step - loss: 0.3365 - acc: 0.8625\n",
            "Epoch 99/100\n",
            "8000/8000 [==============================] - 1s 129us/step - loss: 0.3361 - acc: 0.8619\n",
            "Epoch 100/100\n",
            "8000/8000 [==============================] - 1s 126us/step - loss: 0.3367 - acc: 0.8615\n"
          ],
          "name": "stdout"
        },
        {
          "output_type": "execute_result",
          "data": {
            "text/plain": [
              "<keras.callbacks.History at 0x7f755ead4e10>"
            ]
          },
          "metadata": {
            "tags": []
          },
          "execution_count": 11
        }
      ]
    },
    {
      "cell_type": "markdown",
      "metadata": {
        "id": "fcOc30yH3Y1Y"
      },
      "source": [
        "## Parte 3 - Evaluar el modelo y calcular predicciones finales\n"
      ]
    },
    {
      "cell_type": "markdown",
      "metadata": {
        "id": "2DQVgZme3bK5"
      },
      "source": [
        "### Predicción de los resultados con el Conjunto de Testing"
      ]
    },
    {
      "cell_type": "code",
      "metadata": {
        "id": "YNcMBpVN3dc4"
      },
      "source": [
        "y_pred  = classifier.predict(X_test)\n",
        "y_pred = (y_pred>0.5)"
      ],
      "execution_count": null,
      "outputs": []
    },
    {
      "cell_type": "markdown",
      "metadata": {
        "id": "OUXugttD6NUo"
      },
      "source": [
        "### Predecir una nueva observación\n",
        "\n",
        "Utiliza nuestro modelo de RNA para predecir si el cliente con la siguiente información abandonará el banco:\n",
        "\n",
        "\n",
        "\n",
        "\n",
        "*   Geografia: Francia\n",
        "*   Puntaje de crédito: 600\n",
        "*   Género masculino\n",
        "*   Edad: 40 años de edad\n",
        "*   Tenencia: 3 años.\n",
        "*   Saldo: $ 60000\n",
        "\n",
        "*   Número de productos: 2\n",
        "*   ¿Este cliente tiene una tarjeta de crédito? Sí\n",
        "*   ¿Es este cliente un miembro activo? Sí\n",
        "*   Salario estimado: $ 50000\n",
        "\n",
        "Entonces, ¿deberíamos decir adiós a ese cliente?"
      ]
    },
    {
      "cell_type": "code",
      "metadata": {
        "id": "lO0qWlAXAcIS",
        "colab": {
          "base_uri": "https://localhost:8080/",
          "height": 52
        },
        "outputId": "0bc888f3-2f82-40dd-855e-729523b6d9a6"
      },
      "source": [
        "new_prediction = classifier.predict(sc_X.transform(np.array([[0,0,600, 1, 40, 3, 60000, 2, 1, 1, 50000]])))\n",
        "print(new_prediction)\n",
        "print(new_prediction > 0.5)"
      ],
      "execution_count": null,
      "outputs": [
        {
          "output_type": "stream",
          "text": [
            "[[0.04022561]]\n",
            "[[False]]\n"
          ],
          "name": "stdout"
        }
      ]
    },
    {
      "cell_type": "markdown",
      "metadata": {
        "id": "6iIyHSCl3e2N"
      },
      "source": [
        "### Elaborar una matriz de confusión\n",
        "\n"
      ]
    },
    {
      "cell_type": "code",
      "metadata": {
        "id": "sk2c1O423jK1"
      },
      "source": [
        "from sklearn.metrics import confusion_matrix\n",
        "cm = confusion_matrix(y_test, y_pred)"
      ],
      "execution_count": null,
      "outputs": []
    },
    {
      "cell_type": "code",
      "metadata": {
        "id": "RAaCYMYM-Sh7",
        "colab": {
          "base_uri": "https://localhost:8080/",
          "height": 35
        },
        "outputId": "66339395-431e-45f2-d6b5-1086def15547"
      },
      "source": [
        "(cm[0][0]+cm[1][1])/cm.sum()"
      ],
      "execution_count": null,
      "outputs": [
        {
          "output_type": "execute_result",
          "data": {
            "text/plain": [
              "0.866"
            ]
          },
          "metadata": {
            "tags": []
          },
          "execution_count": 20
        }
      ]
    }
  ]
}